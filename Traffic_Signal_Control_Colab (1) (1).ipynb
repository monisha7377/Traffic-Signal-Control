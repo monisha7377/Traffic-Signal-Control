{
  "cells": [
    {
      "cell_type": "code",
      "source": [
        "!git clone https://github.com/Reinforcement-Learning-F22/Traffic-Signal-Control-using-Deep-Q-Learning.git\n",
        "%cd Traffic-Signal-Control-using-Deep-Q-Learning\n"
      ],
      "metadata": {
        "colab": {
          "base_uri": "https://localhost:8080/"
        },
        "id": "ROP1KVVT_Cxg",
        "outputId": "be979114-f75c-477e-9fed-663fc59dfaf7"
      },
      "execution_count": null,
      "outputs": [
        {
          "output_type": "stream",
          "name": "stdout",
          "text": [
            "fatal: destination path 'Traffic-Signal-Control-using-Deep-Q-Learning' already exists and is not an empty directory.\n",
            "/content/Traffic-Signal-Control-using-Deep-Q-Learning\n"
          ]
        }
      ]
    },
    {
      "cell_type": "code",
      "source": [
        "# Install SUMO\n",
        "!apt-get update\n",
        "!apt-get install sumo sumo-tools sumo-doc\n",
        "\n",
        "# Install Python dependencies\n",
        "!pip install tensorflow sumolib traci pydot graphviz\n"
      ],
      "metadata": {
        "colab": {
          "base_uri": "https://localhost:8080/"
        },
        "id": "_sjZ4dBl_PUW",
        "outputId": "b49fafb5-2bd1-4315-a987-cc6123fd63ba"
      },
      "execution_count": null,
      "outputs": [
        {
          "output_type": "stream",
          "name": "stdout",
          "text": [
            "\r0% [Working]\r            \rHit:1 https://developer.download.nvidia.com/compute/cuda/repos/ubuntu2204/x86_64  InRelease\n",
            "Hit:2 https://cloud.r-project.org/bin/linux/ubuntu jammy-cran40/ InRelease\n",
            "Hit:3 http://security.ubuntu.com/ubuntu jammy-security InRelease\n",
            "Hit:4 http://archive.ubuntu.com/ubuntu jammy InRelease\n",
            "Hit:5 http://archive.ubuntu.com/ubuntu jammy-updates InRelease\n",
            "Hit:6 https://r2u.stat.illinois.edu/ubuntu jammy InRelease\n",
            "Hit:7 http://archive.ubuntu.com/ubuntu jammy-backports InRelease\n",
            "Hit:8 https://ppa.launchpadcontent.net/deadsnakes/ppa/ubuntu jammy InRelease\n",
            "Hit:9 https://ppa.launchpadcontent.net/graphics-drivers/ppa/ubuntu jammy InRelease\n",
            "Hit:10 https://ppa.launchpadcontent.net/ubuntugis/ppa/ubuntu jammy InRelease\n",
            "Reading package lists... Done\n",
            "W: Skipping acquire of configured file 'main/source/Sources' as repository 'https://r2u.stat.illinois.edu/ubuntu jammy InRelease' does not seem to provide it (sources.list entry misspelt?)\n",
            "Reading package lists... Done\n",
            "Building dependency tree... Done\n",
            "Reading state information... Done\n",
            "sumo is already the newest version (1.12.0+dfsg1-1).\n",
            "sumo-doc is already the newest version (1.12.0+dfsg1-1).\n",
            "sumo-tools is already the newest version (1.12.0+dfsg1-1).\n",
            "0 upgraded, 0 newly installed, 0 to remove and 116 not upgraded.\n",
            "Requirement already satisfied: tensorflow in /usr/local/lib/python3.10/dist-packages (2.17.1)\n",
            "Requirement already satisfied: sumolib in /usr/local/lib/python3.10/dist-packages (1.22.0)\n",
            "Requirement already satisfied: traci in /usr/local/lib/python3.10/dist-packages (1.22.0)\n",
            "Requirement already satisfied: pydot in /usr/local/lib/python3.10/dist-packages (3.0.3)\n",
            "Requirement already satisfied: graphviz in /usr/local/lib/python3.10/dist-packages (0.20.3)\n",
            "Requirement already satisfied: absl-py>=1.0.0 in /usr/local/lib/python3.10/dist-packages (from tensorflow) (1.4.0)\n",
            "Requirement already satisfied: astunparse>=1.6.0 in /usr/local/lib/python3.10/dist-packages (from tensorflow) (1.6.3)\n",
            "Requirement already satisfied: flatbuffers>=24.3.25 in /usr/local/lib/python3.10/dist-packages (from tensorflow) (24.3.25)\n",
            "Requirement already satisfied: gast!=0.5.0,!=0.5.1,!=0.5.2,>=0.2.1 in /usr/local/lib/python3.10/dist-packages (from tensorflow) (0.6.0)\n",
            "Requirement already satisfied: google-pasta>=0.1.1 in /usr/local/lib/python3.10/dist-packages (from tensorflow) (0.2.0)\n",
            "Requirement already satisfied: h5py>=3.10.0 in /usr/local/lib/python3.10/dist-packages (from tensorflow) (3.12.1)\n",
            "Requirement already satisfied: libclang>=13.0.0 in /usr/local/lib/python3.10/dist-packages (from tensorflow) (18.1.1)\n",
            "Requirement already satisfied: ml-dtypes<0.5.0,>=0.3.1 in /usr/local/lib/python3.10/dist-packages (from tensorflow) (0.4.1)\n",
            "Requirement already satisfied: opt-einsum>=2.3.2 in /usr/local/lib/python3.10/dist-packages (from tensorflow) (3.4.0)\n",
            "Requirement already satisfied: packaging in /usr/local/lib/python3.10/dist-packages (from tensorflow) (24.2)\n",
            "Requirement already satisfied: protobuf!=4.21.0,!=4.21.1,!=4.21.2,!=4.21.3,!=4.21.4,!=4.21.5,<5.0.0dev,>=3.20.3 in /usr/local/lib/python3.10/dist-packages (from tensorflow) (4.25.5)\n",
            "Requirement already satisfied: requests<3,>=2.21.0 in /usr/local/lib/python3.10/dist-packages (from tensorflow) (2.32.3)\n",
            "Requirement already satisfied: setuptools in /usr/local/lib/python3.10/dist-packages (from tensorflow) (75.1.0)\n",
            "Requirement already satisfied: six>=1.12.0 in /usr/local/lib/python3.10/dist-packages (from tensorflow) (1.17.0)\n",
            "Requirement already satisfied: termcolor>=1.1.0 in /usr/local/lib/python3.10/dist-packages (from tensorflow) (2.5.0)\n",
            "Requirement already satisfied: typing-extensions>=3.6.6 in /usr/local/lib/python3.10/dist-packages (from tensorflow) (4.12.2)\n",
            "Requirement already satisfied: wrapt>=1.11.0 in /usr/local/lib/python3.10/dist-packages (from tensorflow) (1.17.0)\n",
            "Requirement already satisfied: grpcio<2.0,>=1.24.3 in /usr/local/lib/python3.10/dist-packages (from tensorflow) (1.68.1)\n",
            "Requirement already satisfied: tensorboard<2.18,>=2.17 in /usr/local/lib/python3.10/dist-packages (from tensorflow) (2.17.1)\n",
            "Requirement already satisfied: keras>=3.2.0 in /usr/local/lib/python3.10/dist-packages (from tensorflow) (3.5.0)\n",
            "Requirement already satisfied: tensorflow-io-gcs-filesystem>=0.23.1 in /usr/local/lib/python3.10/dist-packages (from tensorflow) (0.37.1)\n",
            "Requirement already satisfied: numpy<2.0.0,>=1.23.5 in /usr/local/lib/python3.10/dist-packages (from tensorflow) (1.26.4)\n",
            "Requirement already satisfied: pyparsing>=3.0.9 in /usr/local/lib/python3.10/dist-packages (from pydot) (3.2.0)\n",
            "Requirement already satisfied: wheel<1.0,>=0.23.0 in /usr/local/lib/python3.10/dist-packages (from astunparse>=1.6.0->tensorflow) (0.45.1)\n",
            "Requirement already satisfied: rich in /usr/local/lib/python3.10/dist-packages (from keras>=3.2.0->tensorflow) (13.9.4)\n",
            "Requirement already satisfied: namex in /usr/local/lib/python3.10/dist-packages (from keras>=3.2.0->tensorflow) (0.0.8)\n",
            "Requirement already satisfied: optree in /usr/local/lib/python3.10/dist-packages (from keras>=3.2.0->tensorflow) (0.13.1)\n",
            "Requirement already satisfied: charset-normalizer<4,>=2 in /usr/local/lib/python3.10/dist-packages (from requests<3,>=2.21.0->tensorflow) (3.4.0)\n",
            "Requirement already satisfied: idna<4,>=2.5 in /usr/local/lib/python3.10/dist-packages (from requests<3,>=2.21.0->tensorflow) (3.10)\n",
            "Requirement already satisfied: urllib3<3,>=1.21.1 in /usr/local/lib/python3.10/dist-packages (from requests<3,>=2.21.0->tensorflow) (2.2.3)\n",
            "Requirement already satisfied: certifi>=2017.4.17 in /usr/local/lib/python3.10/dist-packages (from requests<3,>=2.21.0->tensorflow) (2024.12.14)\n",
            "Requirement already satisfied: markdown>=2.6.8 in /usr/local/lib/python3.10/dist-packages (from tensorboard<2.18,>=2.17->tensorflow) (3.7)\n",
            "Requirement already satisfied: tensorboard-data-server<0.8.0,>=0.7.0 in /usr/local/lib/python3.10/dist-packages (from tensorboard<2.18,>=2.17->tensorflow) (0.7.2)\n",
            "Requirement already satisfied: werkzeug>=1.0.1 in /usr/local/lib/python3.10/dist-packages (from tensorboard<2.18,>=2.17->tensorflow) (3.1.3)\n",
            "Requirement already satisfied: MarkupSafe>=2.1.1 in /usr/local/lib/python3.10/dist-packages (from werkzeug>=1.0.1->tensorboard<2.18,>=2.17->tensorflow) (3.0.2)\n",
            "Requirement already satisfied: markdown-it-py>=2.2.0 in /usr/local/lib/python3.10/dist-packages (from rich->keras>=3.2.0->tensorflow) (3.0.0)\n",
            "Requirement already satisfied: pygments<3.0.0,>=2.13.0 in /usr/local/lib/python3.10/dist-packages (from rich->keras>=3.2.0->tensorflow) (2.18.0)\n",
            "Requirement already satisfied: mdurl~=0.1 in /usr/local/lib/python3.10/dist-packages (from markdown-it-py>=2.2.0->rich->keras>=3.2.0->tensorflow) (0.1.2)\n"
          ]
        }
      ]
    },
    {
      "cell_type": "code",
      "source": [
        "# Update Training_Setup.ini\n",
        "config_path = \"Training_Setup.ini\"\n",
        "\n",
        "with open(config_path, \"r\") as file:\n",
        "    lines = file.readlines()\n",
        "\n",
        "updated_lines = []\n",
        "for line in lines:\n",
        "    if line.startswith(\"numEpisodes\"):\n",
        "        updated_lines.append(\"numEpisodes = 30\\n\")\n",
        "    elif line.startswith(\"numLayers\"):\n",
        "        updated_lines.append(\"numLayers = 2\\n\")\n",
        "    elif line.startswith(\"layerWidth\"):\n",
        "        updated_lines.append(\"layerWidth = 64\\n\")\n",
        "    elif line.startswith(\"batchSize\"):\n",
        "        updated_lines.append(\"batchSize = 16\\n\")\n",
        "    elif line.startswith(\"trainingEpochs\"):\n",
        "        updated_lines.append(\"trainingEpochs = 3\\n\")\n",
        "    elif line.startswith(\"numCars\"):\n",
        "        updated_lines.append(\"numCars = 100\\n\")\n",
        "    elif line.startswith(\"minMemorySize\"):\n",
        "        updated_lines.append(\"minMemorySize = 500\\n\")\n",
        "    elif line.startswith(\"maxMemorySize\"):\n",
        "        updated_lines.append(\"maxMemorySize = 5000\\n\")\n",
        "    else:\n",
        "        updated_lines.append(line)\n",
        "\n",
        "with open(config_path, \"w\") as file:\n",
        "    file.writelines(updated_lines)\n",
        "\n",
        "print(\"Updated Training_Setup.ini ✅\")\n"
      ],
      "metadata": {
        "colab": {
          "base_uri": "https://localhost:8080/"
        },
        "id": "z8NKIyw6_63v",
        "outputId": "db9f3fcb-09cc-4d96-f2aa-38ac146822bc"
      },
      "execution_count": null,
      "outputs": [
        {
          "output_type": "stream",
          "name": "stdout",
          "text": [
            "Updated Training_Setup.ini ✅\n"
          ]
        }
      ]
    },
    {
      "cell_type": "code",
      "source": [
        "import os\n",
        "os.environ[\"SUMO_HOME\"] = \"/usr/share/sumo\"\n",
        "print(\"SUMO_HOME set to:\", os.environ[\"SUMO_HOME\"])\n"
      ],
      "metadata": {
        "colab": {
          "base_uri": "https://localhost:8080/"
        },
        "id": "dJAS4DvWBM4_",
        "outputId": "0f8207d1-5e01-4203-e823-66372670b28f"
      },
      "execution_count": null,
      "outputs": [
        {
          "output_type": "stream",
          "name": "stdout",
          "text": [
            "SUMO_HOME set to: /usr/share/sumo\n"
          ]
        }
      ]
    },
    {
      "cell_type": "code",
      "source": [
        "!sumo --version\n",
        "\n"
      ],
      "metadata": {
        "colab": {
          "base_uri": "https://localhost:8080/"
        },
        "id": "8H5gNXZVBO6q",
        "outputId": "7f2b027e-124f-46a9-d31b-eaaeb9da26c0"
      },
      "execution_count": null,
      "outputs": [
        {
          "output_type": "stream",
          "name": "stdout",
          "text": [
            "Eclipse SUMO sumo Version 1.12.0\n",
            " Build features: Linux-4.15.0-167-generic x86_64 GNU 11.2.0 None Proj GUI SWIG GDAL FFmpeg OSG GL2PS Eigen\n",
            " Copyright (C) 2001-2022 German Aerospace Center (DLR) and others; https://sumo.dlr.de\n",
            "\n",
            "Eclipse SUMO sumo Version 1.12.0 is part of SUMO.\n",
            "This program and the accompanying materials\n",
            "are made available under the terms of the Eclipse Public License v2.0\n",
            "which accompanies this distribution, and is available at\n",
            "http://www.eclipse.org/legal/epl-v20.html\n",
            "This program may also be made available under the following Secondary\n",
            "Licenses when the conditions for such availability set forth in the Eclipse\n",
            "Public License 2.0 are satisfied: GNU General Public License, version 2\n",
            "or later which is available at\n",
            "https://www.gnu.org/licenses/old-licenses/gpl-2.0-standalone.html\n",
            "SPDX-License-Identifier: EPL-2.0 OR GPL-2.0-or-later\n"
          ]
        }
      ]
    },
    {
      "cell_type": "code",
      "source": [
        "!python Train_Main.py\n"
      ],
      "metadata": {
        "colab": {
          "base_uri": "https://localhost:8080/"
        },
        "id": "DNz2OSiy__OG",
        "outputId": "d0475c1c-1815-4313-91e6-e809f58678ba"
      },
      "execution_count": null,
      "outputs": [
        {
          "output_type": "stream",
          "name": "stdout",
          "text": [
            "2025-02-12 16:55:11.742599: E external/local_xla/xla/stream_executor/cuda/cuda_fft.cc:485] Unable to register cuFFT factory: Attempting to register factory for plugin cuFFT when one has already been registered\n",
            "2025-02-12 16:55:11.762574: E external/local_xla/xla/stream_executor/cuda/cuda_dnn.cc:8454] Unable to register cuDNN factory: Attempting to register factory for plugin cuDNN when one has already been registered\n",
            "2025-02-12 16:55:11.768465: E external/local_xla/xla/stream_executor/cuda/cuda_blas.cc:1452] Unable to register cuBLAS factory: Attempting to register factory for plugin cuBLAS when one has already been registered\n",
            "WARNING: All log messages before absl::InitializeLog() is called are written to STDERR\n",
            "I0000 00:00:1739379314.209272   76070 cuda_executor.cc:1015] successful NUMA node read from SysFS had negative value (-1), but there must be at least one NUMA node, so returning NUMA node zero. See more at https://github.com/torvalds/linux/blob/v6.0/Documentation/ABI/testing/sysfs-bus-pci#L344-L355\n",
            "I0000 00:00:1739379314.269485   76070 cuda_executor.cc:1015] successful NUMA node read from SysFS had negative value (-1), but there must be at least one NUMA node, so returning NUMA node zero. See more at https://github.com/torvalds/linux/blob/v6.0/Documentation/ABI/testing/sysfs-bus-pci#L344-L355\n",
            "I0000 00:00:1739379314.269801   76070 cuda_executor.cc:1015] successful NUMA node read from SysFS had negative value (-1), but there must be at least one NUMA node, so returning NUMA node zero. See more at https://github.com/torvalds/linux/blob/v6.0/Documentation/ABI/testing/sysfs-bus-pci#L344-L355\n",
            "I0000 00:00:1739379314.270462   76070 cuda_executor.cc:1015] successful NUMA node read from SysFS had negative value (-1), but there must be at least one NUMA node, so returning NUMA node zero. See more at https://github.com/torvalds/linux/blob/v6.0/Documentation/ABI/testing/sysfs-bus-pci#L344-L355\n",
            "I0000 00:00:1739379314.270703   76070 cuda_executor.cc:1015] successful NUMA node read from SysFS had negative value (-1), but there must be at least one NUMA node, so returning NUMA node zero. See more at https://github.com/torvalds/linux/blob/v6.0/Documentation/ABI/testing/sysfs-bus-pci#L344-L355\n",
            "I0000 00:00:1739379314.270894   76070 cuda_executor.cc:1015] successful NUMA node read from SysFS had negative value (-1), but there must be at least one NUMA node, so returning NUMA node zero. See more at https://github.com/torvalds/linux/blob/v6.0/Documentation/ABI/testing/sysfs-bus-pci#L344-L355\n",
            "I0000 00:00:1739379314.366422   76070 cuda_executor.cc:1015] successful NUMA node read from SysFS had negative value (-1), but there must be at least one NUMA node, so returning NUMA node zero. See more at https://github.com/torvalds/linux/blob/v6.0/Documentation/ABI/testing/sysfs-bus-pci#L344-L355\n",
            "I0000 00:00:1739379314.366728   76070 cuda_executor.cc:1015] successful NUMA node read from SysFS had negative value (-1), but there must be at least one NUMA node, so returning NUMA node zero. See more at https://github.com/torvalds/linux/blob/v6.0/Documentation/ABI/testing/sysfs-bus-pci#L344-L355\n",
            "I0000 00:00:1739379314.366966   76070 cuda_executor.cc:1015] successful NUMA node read from SysFS had negative value (-1), but there must be at least one NUMA node, so returning NUMA node zero. See more at https://github.com/torvalds/linux/blob/v6.0/Documentation/ABI/testing/sysfs-bus-pci#L344-L355\n",
            "\n",
            "----- Episode 1 of 30\n",
            " Retrying in 1 seconds\n",
            "Simulating...\n",
            "Total reward: -2613.0 - Epsilon: 1.0\n",
            "Training...\n",
            "WARNING: All log messages before absl::InitializeLog() is called are written to STDERR\n",
            "I0000 00:00:1739379319.618295   76098 service.cc:146] XLA service 0x7e72a8005c00 initialized for platform CUDA (this does not guarantee that XLA will be used). Devices:\n",
            "I0000 00:00:1739379319.618334   76098 service.cc:154]   StreamExecutor device (0): Tesla T4, Compute Capability 7.5\n",
            "I0000 00:00:1739379319.999546   76098 device_compiler.h:188] Compiled cluster using XLA!  This line is logged at most once for the lifetime of the process.\n",
            "Simulation time: 4.0 s - Training time: 2.9 s - Total: 6.9 s\n",
            "\n",
            "----- Episode 2 of 30\n",
            " Retrying in 1 seconds\n",
            "Simulating...\n",
            "Total reward: -2356.0 - Epsilon: 0.97\n",
            "Training...\n",
            "Simulation time: 5.4 s - Training time: 0.4 s - Total: 5.8 s\n",
            "\n",
            "----- Episode 3 of 30\n",
            " Retrying in 1 seconds\n",
            "Simulating...\n",
            "Total reward: -2528.0 - Epsilon: 0.93\n",
            "Training...\n",
            "Simulation time: 5.6 s - Training time: 0.6 s - Total: 6.2 s\n",
            "\n",
            "----- Episode 4 of 30\n",
            " Retrying in 1 seconds\n",
            "Simulating...\n",
            "Total reward: -3081.0 - Epsilon: 0.9\n",
            "Training...\n",
            "Simulation time: 6.6 s - Training time: 0.4 s - Total: 7.0 s\n",
            "\n",
            "----- Episode 5 of 30\n",
            " Retrying in 1 seconds\n",
            "Simulating...\n",
            "Total reward: -3020.0 - Epsilon: 0.87\n",
            "Training...\n",
            "Simulation time: 7.9 s - Training time: 0.4 s - Total: 8.3 s\n",
            "\n",
            "----- Episode 6 of 30\n",
            " Retrying in 1 seconds\n",
            "Simulating...\n",
            "Total reward: -2070.0 - Epsilon: 0.83\n",
            "Training...\n",
            "Simulation time: 8.7 s - Training time: 0.7 s - Total: 9.4 s\n",
            "\n",
            "----- Episode 7 of 30\n",
            " Retrying in 1 seconds\n",
            "Simulating...\n",
            "Total reward: -2835.0 - Epsilon: 0.8\n",
            "Training...\n",
            "Simulation time: 9.2 s - Training time: 0.5 s - Total: 9.7 s\n",
            "\n",
            "----- Episode 8 of 30\n",
            " Retrying in 1 seconds\n",
            "Simulating...\n",
            "Total reward: -3586.0 - Epsilon: 0.77\n",
            "Training...\n",
            "Simulation time: 10.4 s - Training time: 0.4 s - Total: 10.8 s\n",
            "\n",
            "----- Episode 9 of 30\n",
            " Retrying in 1 seconds\n",
            "Simulating...\n",
            "Total reward: -2114.0 - Epsilon: 0.73\n",
            "Training...\n",
            "Simulation time: 11.5 s - Training time: 0.4 s - Total: 11.9 s\n",
            "\n",
            "----- Episode 10 of 30\n",
            " Retrying in 1 seconds\n",
            "Simulating...\n",
            "Total reward: -1760.0 - Epsilon: 0.7\n",
            "Training...\n",
            "Simulation time: 11.8 s - Training time: 0.5 s - Total: 12.3 s\n",
            "\n",
            "----- Episode 11 of 30\n",
            " Retrying in 1 seconds\n",
            "Simulating...\n",
            "Total reward: -1761.0 - Epsilon: 0.67\n",
            "Training...\n",
            "Simulation time: 14.1 s - Training time: 0.6 s - Total: 14.7 s\n",
            "\n",
            "----- Episode 12 of 30\n",
            " Retrying in 1 seconds\n",
            "Simulating...\n",
            "Total reward: -2814.0 - Epsilon: 0.63\n",
            "Training...\n",
            "Simulation time: 14.8 s - Training time: 0.4 s - Total: 15.2 s\n",
            "\n",
            "----- Episode 13 of 30\n",
            " Retrying in 1 seconds\n",
            "Simulating...\n",
            "Total reward: -3279.0 - Epsilon: 0.6\n",
            "Training...\n",
            "Simulation time: 16.2 s - Training time: 0.5 s - Total: 16.7 s\n",
            "\n",
            "----- Episode 14 of 30\n",
            " Retrying in 1 seconds\n",
            "Simulating...\n",
            "Total reward: -2812.0 - Epsilon: 0.57\n",
            "Training...\n",
            "Simulation time: 16.3 s - Training time: 0.7 s - Total: 17.0 s\n",
            "\n",
            "----- Episode 15 of 30\n",
            " Retrying in 1 seconds\n",
            "Simulating...\n",
            "Total reward: -2719.0 - Epsilon: 0.53\n",
            "Training...\n",
            "Simulation time: 18.9 s - Training time: 0.4 s - Total: 19.3 s\n",
            "\n",
            "----- Episode 16 of 30\n",
            " Retrying in 1 seconds\n",
            "Simulating...\n",
            "Total reward: -2323.0 - Epsilon: 0.5\n",
            "Training...\n",
            "Simulation time: 18.6 s - Training time: 0.5 s - Total: 19.1 s\n",
            "\n",
            "----- Episode 17 of 30\n",
            " Retrying in 1 seconds\n",
            "Simulating...\n",
            "Total reward: -1205.0 - Epsilon: 0.47\n",
            "Training...\n",
            "Simulation time: 18.4 s - Training time: 0.4 s - Total: 18.8 s\n",
            "\n",
            "----- Episode 18 of 30\n",
            " Retrying in 1 seconds\n",
            "Simulating...\n",
            "Total reward: -2049.0 - Epsilon: 0.43\n",
            "Training...\n",
            "Simulation time: 21.7 s - Training time: 0.4 s - Total: 22.1 s\n",
            "\n",
            "----- Episode 19 of 30\n",
            " Retrying in 1 seconds\n",
            "Simulating...\n",
            "Total reward: -2684.0 - Epsilon: 0.4\n",
            "Training...\n",
            "Simulation time: 22.1 s - Training time: 0.5 s - Total: 22.6 s\n",
            "\n",
            "----- Episode 20 of 30\n",
            " Retrying in 1 seconds\n",
            "Simulating...\n",
            "Total reward: -1340.0 - Epsilon: 0.37\n",
            "Training...\n",
            "Simulation time: 25.0 s - Training time: 0.5 s - Total: 25.5 s\n",
            "\n",
            "----- Episode 21 of 30\n",
            " Retrying in 1 seconds\n",
            "Simulating...\n",
            "Total reward: -1973.0 - Epsilon: 0.33\n",
            "Training...\n",
            "Simulation time: 24.6 s - Training time: 0.5 s - Total: 25.1 s\n",
            "\n",
            "----- Episode 22 of 30\n",
            " Retrying in 1 seconds\n",
            "Simulating...\n",
            "Total reward: -1162.0 - Epsilon: 0.3\n",
            "Training...\n",
            "Simulation time: 25.3 s - Training time: 0.5 s - Total: 25.8 s\n",
            "\n",
            "----- Episode 23 of 30\n",
            " Retrying in 1 seconds\n",
            "Simulating...\n",
            "Total reward: -1795.0 - Epsilon: 0.27\n",
            "Training...\n",
            "Simulation time: 27.6 s - Training time: 0.5 s - Total: 28.1 s\n",
            "\n",
            "----- Episode 24 of 30\n",
            " Retrying in 1 seconds\n",
            "Simulating...\n",
            "Total reward: -1861.0 - Epsilon: 0.23\n",
            "Training...\n",
            "Simulation time: 28.8 s - Training time: 0.4 s - Total: 29.2 s\n",
            "\n",
            "----- Episode 25 of 30\n",
            " Retrying in 1 seconds\n",
            "Simulating...\n",
            "Total reward: -5207.0 - Epsilon: 0.2\n",
            "Training...\n",
            "Simulation time: 29.5 s - Training time: 0.5 s - Total: 30.0 s\n",
            "\n",
            "----- Episode 26 of 30\n",
            " Retrying in 1 seconds\n",
            "Simulating...\n",
            "Total reward: -6170.0 - Epsilon: 0.17\n",
            "Training...\n",
            "Simulation time: 31.8 s - Training time: 0.4 s - Total: 32.2 s\n",
            "\n",
            "----- Episode 27 of 30\n",
            " Retrying in 1 seconds\n",
            "Simulating...\n",
            "Total reward: -4011.0 - Epsilon: 0.13\n",
            "Training...\n",
            "Simulation time: 32.4 s - Training time: 0.7 s - Total: 33.1 s\n",
            "\n",
            "----- Episode 28 of 30\n",
            " Retrying in 1 seconds\n",
            "Simulating...\n",
            "Total reward: -4022.0 - Epsilon: 0.1\n",
            "Training...\n",
            "Simulation time: 32.3 s - Training time: 0.5 s - Total: 32.8 s\n",
            "\n",
            "----- Episode 29 of 30\n",
            " Retrying in 1 seconds\n",
            "Simulating...\n",
            "Total reward: -4677.0 - Epsilon: 0.07\n",
            "Training...\n",
            "Simulation time: 35.7 s - Training time: 0.4 s - Total: 36.1 s\n",
            "\n",
            "----- Episode 30 of 30\n",
            " Retrying in 1 seconds\n",
            "Simulating...\n",
            "Total reward: -3540.0 - Epsilon: 0.03\n",
            "Training...\n",
            "Simulation time: 37.2 s - Training time: 0.5 s - Total: 37.7 s\n",
            "\n",
            "----- Start time: 2025-02-12 16:55:15.528447\n",
            "----- End time: 2025-02-12 17:05:04.845303\n",
            "----- Session info saved at: /content/Traffic-Signal-Control-using-Deep-Q-Learning/models/model_10/\n",
            "WARNING:absl:You are saving your model as an HDF5 file via `model.save()` or `keras.saving.save_model(model)`. This file format is considered legacy. We recommend using instead the native Keras format, e.g. `model.save('my_model.keras')` or `keras.saving.save_model(model, 'my_model.keras')`. \n"
          ]
        }
      ]
    },
    {
      "cell_type": "code",
      "source": [
        "!python Test_Main.py\n"
      ],
      "metadata": {
        "colab": {
          "base_uri": "https://localhost:8080/"
        },
        "id": "q-E-5DZmE8ts",
        "outputId": "ea4ef397-5b42-452e-8565-7bfa84ee1653"
      },
      "execution_count": null,
      "outputs": [
        {
          "output_type": "stream",
          "name": "stdout",
          "text": [
            "2025-02-12 17:05:13.601708: E external/local_xla/xla/stream_executor/cuda/cuda_fft.cc:485] Unable to register cuFFT factory: Attempting to register factory for plugin cuFFT when one has already been registered\n",
            "2025-02-12 17:05:13.623488: E external/local_xla/xla/stream_executor/cuda/cuda_dnn.cc:8454] Unable to register cuDNN factory: Attempting to register factory for plugin cuDNN when one has already been registered\n",
            "2025-02-12 17:05:13.630137: E external/local_xla/xla/stream_executor/cuda/cuda_blas.cc:1452] Unable to register cuBLAS factory: Attempting to register factory for plugin cuBLAS when one has already been registered\n",
            "WARNING: All log messages before absl::InitializeLog() is called are written to STDERR\n",
            "I0000 00:00:1739379916.082827  133219 cuda_executor.cc:1015] successful NUMA node read from SysFS had negative value (-1), but there must be at least one NUMA node, so returning NUMA node zero. See more at https://github.com/torvalds/linux/blob/v6.0/Documentation/ABI/testing/sysfs-bus-pci#L344-L355\n",
            "I0000 00:00:1739379916.147443  133219 cuda_executor.cc:1015] successful NUMA node read from SysFS had negative value (-1), but there must be at least one NUMA node, so returning NUMA node zero. See more at https://github.com/torvalds/linux/blob/v6.0/Documentation/ABI/testing/sysfs-bus-pci#L344-L355\n",
            "I0000 00:00:1739379916.147758  133219 cuda_executor.cc:1015] successful NUMA node read from SysFS had negative value (-1), but there must be at least one NUMA node, so returning NUMA node zero. See more at https://github.com/torvalds/linux/blob/v6.0/Documentation/ABI/testing/sysfs-bus-pci#L344-L355\n",
            "I0000 00:00:1739379916.148427  133219 cuda_executor.cc:1015] successful NUMA node read from SysFS had negative value (-1), but there must be at least one NUMA node, so returning NUMA node zero. See more at https://github.com/torvalds/linux/blob/v6.0/Documentation/ABI/testing/sysfs-bus-pci#L344-L355\n",
            "I0000 00:00:1739379916.148675  133219 cuda_executor.cc:1015] successful NUMA node read from SysFS had negative value (-1), but there must be at least one NUMA node, so returning NUMA node zero. See more at https://github.com/torvalds/linux/blob/v6.0/Documentation/ABI/testing/sysfs-bus-pci#L344-L355\n",
            "I0000 00:00:1739379916.148882  133219 cuda_executor.cc:1015] successful NUMA node read from SysFS had negative value (-1), but there must be at least one NUMA node, so returning NUMA node zero. See more at https://github.com/torvalds/linux/blob/v6.0/Documentation/ABI/testing/sysfs-bus-pci#L344-L355\n",
            "I0000 00:00:1739379916.245779  133219 cuda_executor.cc:1015] successful NUMA node read from SysFS had negative value (-1), but there must be at least one NUMA node, so returning NUMA node zero. See more at https://github.com/torvalds/linux/blob/v6.0/Documentation/ABI/testing/sysfs-bus-pci#L344-L355\n",
            "I0000 00:00:1739379916.246135  133219 cuda_executor.cc:1015] successful NUMA node read from SysFS had negative value (-1), but there must be at least one NUMA node, so returning NUMA node zero. See more at https://github.com/torvalds/linux/blob/v6.0/Documentation/ABI/testing/sysfs-bus-pci#L344-L355\n",
            "I0000 00:00:1739379916.246364  133219 cuda_executor.cc:1015] successful NUMA node read from SysFS had negative value (-1), but there must be at least one NUMA node, so returning NUMA node zero. See more at https://github.com/torvalds/linux/blob/v6.0/Documentation/ABI/testing/sysfs-bus-pci#L344-L355\n",
            "/usr/local/lib/python3.10/dist-packages/keras/src/optimizers/base_optimizer.py:33: UserWarning: Argument `decay` is no longer supported and will be ignored.\n",
            "  warnings.warn(\n",
            "WARNING:absl:Compiled the loaded model, but the compiled metrics have yet to be built. `model.compile_metrics` will be empty until you train or evaluate the model.\n",
            "WARNING:absl:Error in loading the saved optimizer state. As a result, your model is starting with a freshly initialized optimizer.\n",
            "\n",
            "----- Test episode\n",
            " Retrying in 1 seconds\n",
            "Simulating...\n",
            "WARNING: All log messages before absl::InitializeLog() is called are written to STDERR\n",
            "I0000 00:00:1739379918.576265  133248 service.cc:146] XLA service 0x7cfc68004bb0 initialized for platform CUDA (this does not guarantee that XLA will be used). Devices:\n",
            "I0000 00:00:1739379918.576316  133248 service.cc:154]   StreamExecutor device (0): Tesla T4, Compute Capability 7.5\n",
            "I0000 00:00:1739379918.759763  133248 device_compiler.h:188] Compiled cluster using XLA!  This line is logged at most once for the lifetime of the process.\n",
            "Simulation time: 36.4 s\n",
            "----- Testing info saved at: /content/Traffic-Signal-Control-using-Deep-Q-Learning/models/model_2/test/\n"
          ]
        }
      ]
    },
    {
      "cell_type": "code",
      "source": [
        "!ls /content/Traffic-Signal-Control-using-Deep-Q-Learning/models/model_2/test/\n"
      ],
      "metadata": {
        "colab": {
          "base_uri": "https://localhost:8080/"
        },
        "id": "X3lQXRBZMYwG",
        "outputId": "90908dac-7fbb-4d7b-c9fe-c4f93e3726b4"
      },
      "execution_count": null,
      "outputs": [
        {
          "output_type": "stream",
          "name": "stdout",
          "text": [
            "plot_queue_data.txt  plot_queue.png  plot_reward_data.txt  plot_reward.png  Testing_Setup.ini\n"
          ]
        }
      ]
    },
    {
      "cell_type": "code",
      "source": [
        "import matplotlib.pyplot as plt\n",
        "import cv2\n",
        "\n",
        "# Load and display queue length plot\n",
        "queue_img = cv2.imread(\"/content/Traffic-Signal-Control-using-Deep-Q-Learning/models/model_2/test/plot_queue.png\")\n",
        "plt.imshow(queue_img)\n",
        "plt.title(\"Queue Length Over Time\")\n",
        "plt.axis(\"off\")\n",
        "plt.show()\n",
        "\n",
        "# Load and display reward plot\n",
        "reward_img = cv2.imread(\"/content/Traffic-Signal-Control-using-Deep-Q-Learning/models/model_2/test/plot_reward.png\")\n",
        "plt.imshow(reward_img)\n",
        "plt.title(\"Reward Over Time\")\n",
        "plt.axis(\"off\")\n",
        "plt.show()\n"
      ],
      "metadata": {
        "colab": {
          "base_uri": "https://localhost:8080/",
          "height": 659
        },
        "id": "grc2JWtvMmge",
        "outputId": "1b30bc49-91b9-4c08-8631-a942ae0da287"
      },
      "execution_count": null,
      "outputs": [
        {
          "output_type": "display_data",
          "data": {
            "text/plain": [
              "<Figure size 640x480 with 1 Axes>"
            ],
            "image/png": "[encoded data removed]"
          },
          "metadata": {}
        },
        {
          "output_type": "display_data",
          "data": {
            "text/plain": [
              "<Figure size 640x480 with 1 Axes>"
            ],
            "image/png": "[encoded data removed]"
          },
          "metadata": {}
        }
      ]
    },
    {
      "cell_type": "code",
      "source": [
        "!zip -r test_results.zip /content/Traffic-Signal-Control-using-Deep-Q-Learning/models/model_2/test/\n",
        "from google.colab import files\n",
        "files.download(\"test_results.zip\")\n"
      ],
      "metadata": {
        "colab": {
          "base_uri": "https://localhost:8080/",
          "height": 141
        },
        "id": "H4qeeo9jMp6G",
        "outputId": "9f6331ee-fc8f-47f8-d1b9-4c150a312d6a"
      },
      "execution_count": null,
      "outputs": [
        {
          "output_type": "stream",
          "name": "stdout",
          "text": [
            "  adding: content/Traffic-Signal-Control-using-Deep-Q-Learning/models/model_2/test/ (stored 0%)\n",
            "  adding: content/Traffic-Signal-Control-using-Deep-Q-Learning/models/model_2/test/plot_queue_data.txt (deflated 92%)\n",
            "  adding: content/Traffic-Signal-Control-using-Deep-Q-Learning/models/model_2/test/Testing_Setup.ini (deflated 32%)\n",
            "  adding: content/Traffic-Signal-Control-using-Deep-Q-Learning/models/model_2/test/plot_reward_data.txt (deflated 77%)\n",
            "  adding: content/Traffic-Signal-Control-using-Deep-Q-Learning/models/model_2/test/plot_queue.png (deflated 7%)\n",
            "  adding: content/Traffic-Signal-Control-using-Deep-Q-Learning/models/model_2/test/plot_reward.png (deflated 6%)\n"
          ]
        },
        {
          "output_type": "display_data",
          "data": {
            "text/plain": [
              "<IPython.core.display.Javascript object>"
            ],
            "application/javascript": [
              "\n",
              "    async function download(id, filename, size) {\n",
              "      if (!google.colab.kernel.accessAllowed) {\n",
              "        return;\n",
              "      }\n",
              "      const div = document.createElement('div');\n",
              "      const label = document.createElement('label');\n",
              "      label.textContent = `Downloading \"${filename}\": `;\n",
              "      div.appendChild(label);\n",
              "      const progress = document.createElement('progress');\n",
              "      progress.max = size;\n",
              "      div.appendChild(progress);\n",
              "      document.body.appendChild(div);\n",
              "\n",
              "      const buffers = [];\n",
              "      let downloaded = 0;\n",
              "\n",
              "      const channel = await google.colab.kernel.comms.open(id);\n",
              "      // Send a message to notify the kernel that we're ready.\n",
              "      channel.send({})\n",
              "\n",
              "      for await (const message of channel.messages) {\n",
              "        // Send a message to notify the kernel that we're ready.\n",
              "        channel.send({})\n",
              "        if (message.buffers) {\n",
              "          for (const buffer of message.buffers) {\n",
              "            buffers.push(buffer);\n",
              "            downloaded += buffer.byteLength;\n",
              "            progress.value = downloaded;\n",
              "          }\n",
              "        }\n",
              "      }\n",
              "      const blob = new Blob(buffers, {type: 'application/binary'});\n",
              "      const a = document.createElement('a');\n",
              "      a.href = window.URL.createObjectURL(blob);\n",
              "      a.download = filename;\n",
              "      div.appendChild(a);\n",
              "      a.click();\n",
              "      div.remove();\n",
              "    }\n",
              "  "
            ]
          },
          "metadata": {}
        },
        {
          "output_type": "display_data",
          "data": {
            "text/plain": [
              "<IPython.core.display.Javascript object>"
            ],
            "application/javascript": [
              "download(\"download_b61eca6e-45d4-4f3e-ab41-3f801f101589\", \"test_results.zip\", 293401)"
            ]
          },
          "metadata": {}
        }
      ]
    }
  ],
  "metadata": {
    "colab": {
      "provenance": [],
      "gpuType": "T4"
    },
    "kernelspec": {
      "display_name": "Python 3",
      "name": "python3"
    },
    "language_info": {
      "codemirror_mode": {
        "name": "ipython",
        "version": 3
      },
      "file_extension": ".py",
      "mimetype": "text/x-python",
      "name": "python",
      "nbconvert_exporter": "python",
      "pygments_lexer": "ipython3",
      "version": "3.6.9"
    },
    "accelerator": "GPU"
  },
  "nbformat": 4,
  "nbformat_minor": 0
}